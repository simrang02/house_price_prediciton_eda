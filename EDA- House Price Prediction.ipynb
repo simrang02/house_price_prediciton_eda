{
 "cells": [
  {
   "cell_type": "markdown",
   "metadata": {},
   "source": [
    "## Exploratory Data Analysis on House Price Prediction by Simran Goyal\n",
    "\n",
    "The aim of this report is to predict the house prices based on various parameters.\n",
    "Our main objective here is to define a report consisting of *Data Visualisation* using various libraries like Seaborn and Matplotlib. Here, we will visualise and predict the house sales using the test data.\n",
    "\n",
    "The parameters used in this data set are very general and relatable. The various parameters considered in this data set are- the condition of the house, the location of the house, what is the actual market value, how many bedrooms does it have etc."
   ]
  },
  {
   "cell_type": "code",
   "execution_count": 1,
   "metadata": {},
   "outputs": [
    {
     "data": {
      "text/html": [
       "<script>\n",
       "code_show=true; \n",
       "function code_toggle() {\n",
       " if (code_show){\n",
       " $('div.input').hide();\n",
       " } else {\n",
       " $('div.input').show();\n",
       " }\n",
       " code_show = !code_show\n",
       "} \n",
       "$( document ).ready(code_toggle);\n",
       "</script>\n",
       "<form action=\"javascript:code_toggle()\"><input type=\"submit\" value=\"Click here to toggle on/off the raw code.\"></form>"
      ],
      "text/plain": [
       "<IPython.core.display.HTML object>"
      ]
     },
     "execution_count": 1,
     "metadata": {},
     "output_type": "execute_result"
    }
   ],
   "source": [
    "from IPython.display import HTML\n",
    "\n",
    "HTML('''<script>\n",
    "code_show=true; \n",
    "function code_toggle() {\n",
    " if (code_show){\n",
    " $('div.input').hide();\n",
    " } else {\n",
    " $('div.input').show();\n",
    " }\n",
    " code_show = !code_show\n",
    "} \n",
    "$( document ).ready(code_toggle);\n",
    "</script>\n",
    "<form action=\"javascript:code_toggle()\"><input type=\"submit\" value=\"Click here to toggle on/off the raw code.\"></form>''')"
   ]
  },
  {
   "cell_type": "markdown",
   "metadata": {},
   "source": [
    "### Data Description\n",
    "\n",
    "The data used here is in csv format.\n",
    "A CSV (Comma-Separated Values) file stores data in a tabular format consisting of rows and columns. The data in every row is separated by commas. It looks like a database or a spreadsheet.\n",
    "\n",
    "This data is produced in Washington (can identify this due to the zip codes in the data set).\n",
    "The data set used here will be helpful for us to predict the house sales based on the different parameters like- when was it first bought, how many bathrooms does it have, how much is the area covered by the house, what is the condition of the house etc. This is a general data set, that is observed and collected on various different parameters. Mostly parameters are continuous in nature except the condition and grade of the house, which are ordinal.\n",
    "\n",
    "### Attribute Information\n",
    "\n",
    "The various attributes on which the data is observed are:\n",
    "\n",
    "1. Date it was bought on\n",
    "3. The market value\n",
    "4. Number of bedrooms\n",
    "5. Number of bathrooms\n",
    "6. The living area in sqft\n",
    "7. The lot area in sqft\n",
    "8. The condition of the house\n",
    "9. The year it was built in\n",
    "10. The year it was renovated in\n",
    "11. The zipcode of the area\n",
    "12. The latitude\n",
    "13. The longitude\n",
    "\n",
    "And many more parameters which we will observe and analyse in this report.\n",
    "\n",
    "![House](download.jpg)"
   ]
  },
  {
   "cell_type": "code",
   "execution_count": 2,
   "metadata": {},
   "outputs": [],
   "source": [
    "# Importing the required libraries:\n",
    "import numpy as np \n",
    "import pandas as pd \n",
    "import matplotlib.pyplot as plt \n",
    "%matplotlib inline \n",
    "import seaborn as sns"
   ]
  },
  {
   "cell_type": "markdown",
   "metadata": {},
   "source": [
    "Let us view the data in a dataframe format.\n",
    "\n",
    "We use the head function to view the first five rows of the data set."
   ]
  },
  {
   "cell_type": "code",
   "execution_count": 3,
   "metadata": {},
   "outputs": [
    {
     "ename": "IOError",
     "evalue": "File C:\\Users\\Simran Goyal\\Desktop\\data.csv does not exist",
     "output_type": "error",
     "traceback": [
      "\u001b[1;31m\u001b[0m",
      "\u001b[1;31mIOError\u001b[0mTraceback (most recent call last)",
      "\u001b[1;32m<ipython-input-3-dd765a0cf230>\u001b[0m in \u001b[0;36m<module>\u001b[1;34m()\u001b[0m\n\u001b[1;32m----> 1\u001b[1;33m \u001b[0mdf\u001b[0m \u001b[1;33m=\u001b[0m \u001b[0mpd\u001b[0m\u001b[1;33m.\u001b[0m\u001b[0mread_csv\u001b[0m\u001b[1;33m(\u001b[0m\u001b[1;34m'C:\\Users\\Simran Goyal\\Desktop\\data.csv'\u001b[0m\u001b[1;33m)\u001b[0m\u001b[1;33m\u001b[0m\u001b[0m\n\u001b[0m\u001b[0;32m      2\u001b[0m \u001b[0mpd\u001b[0m\u001b[1;33m.\u001b[0m\u001b[0moptions\u001b[0m\u001b[1;33m.\u001b[0m\u001b[0mdisplay\u001b[0m\u001b[1;33m.\u001b[0m\u001b[0mmax_columns\u001b[0m \u001b[1;33m=\u001b[0m \u001b[0mNone\u001b[0m\u001b[1;33m\u001b[0m\u001b[0m\n\u001b[0;32m      3\u001b[0m \u001b[0mdf\u001b[0m\u001b[1;33m.\u001b[0m\u001b[0mhead\u001b[0m\u001b[1;33m(\u001b[0m\u001b[1;33m)\u001b[0m\u001b[1;33m\u001b[0m\u001b[0m\n",
      "\u001b[1;32mC:\\Users\\Simran Goyal\\Anaconda2\\lib\\site-packages\\pandas\\io\\parsers.pyc\u001b[0m in \u001b[0;36mparser_f\u001b[1;34m(filepath_or_buffer, sep, delimiter, header, names, index_col, usecols, squeeze, prefix, mangle_dupe_cols, dtype, engine, converters, true_values, false_values, skipinitialspace, skiprows, nrows, na_values, keep_default_na, na_filter, verbose, skip_blank_lines, parse_dates, infer_datetime_format, keep_date_col, date_parser, dayfirst, iterator, chunksize, compression, thousands, decimal, lineterminator, quotechar, quoting, escapechar, comment, encoding, dialect, tupleize_cols, error_bad_lines, warn_bad_lines, skipfooter, skip_footer, doublequote, delim_whitespace, as_recarray, compact_ints, use_unsigned, low_memory, buffer_lines, memory_map, float_precision)\u001b[0m\n\u001b[0;32m    707\u001b[0m                     skip_blank_lines=skip_blank_lines)\n\u001b[0;32m    708\u001b[0m \u001b[1;33m\u001b[0m\u001b[0m\n\u001b[1;32m--> 709\u001b[1;33m         \u001b[1;32mreturn\u001b[0m \u001b[0m_read\u001b[0m\u001b[1;33m(\u001b[0m\u001b[0mfilepath_or_buffer\u001b[0m\u001b[1;33m,\u001b[0m \u001b[0mkwds\u001b[0m\u001b[1;33m)\u001b[0m\u001b[1;33m\u001b[0m\u001b[0m\n\u001b[0m\u001b[0;32m    710\u001b[0m \u001b[1;33m\u001b[0m\u001b[0m\n\u001b[0;32m    711\u001b[0m     \u001b[0mparser_f\u001b[0m\u001b[1;33m.\u001b[0m\u001b[0m__name__\u001b[0m \u001b[1;33m=\u001b[0m \u001b[0mname\u001b[0m\u001b[1;33m\u001b[0m\u001b[0m\n",
      "\u001b[1;32mC:\\Users\\Simran Goyal\\Anaconda2\\lib\\site-packages\\pandas\\io\\parsers.pyc\u001b[0m in \u001b[0;36m_read\u001b[1;34m(filepath_or_buffer, kwds)\u001b[0m\n\u001b[0;32m    447\u001b[0m \u001b[1;33m\u001b[0m\u001b[0m\n\u001b[0;32m    448\u001b[0m     \u001b[1;31m# Create the parser.\u001b[0m\u001b[1;33m\u001b[0m\u001b[1;33m\u001b[0m\u001b[0m\n\u001b[1;32m--> 449\u001b[1;33m     \u001b[0mparser\u001b[0m \u001b[1;33m=\u001b[0m \u001b[0mTextFileReader\u001b[0m\u001b[1;33m(\u001b[0m\u001b[0mfilepath_or_buffer\u001b[0m\u001b[1;33m,\u001b[0m \u001b[1;33m**\u001b[0m\u001b[0mkwds\u001b[0m\u001b[1;33m)\u001b[0m\u001b[1;33m\u001b[0m\u001b[0m\n\u001b[0m\u001b[0;32m    450\u001b[0m \u001b[1;33m\u001b[0m\u001b[0m\n\u001b[0;32m    451\u001b[0m     \u001b[1;32mif\u001b[0m \u001b[0mchunksize\u001b[0m \u001b[1;32mor\u001b[0m \u001b[0miterator\u001b[0m\u001b[1;33m:\u001b[0m\u001b[1;33m\u001b[0m\u001b[0m\n",
      "\u001b[1;32mC:\\Users\\Simran Goyal\\Anaconda2\\lib\\site-packages\\pandas\\io\\parsers.pyc\u001b[0m in \u001b[0;36m__init__\u001b[1;34m(self, f, engine, **kwds)\u001b[0m\n\u001b[0;32m    816\u001b[0m             \u001b[0mself\u001b[0m\u001b[1;33m.\u001b[0m\u001b[0moptions\u001b[0m\u001b[1;33m[\u001b[0m\u001b[1;34m'has_index_names'\u001b[0m\u001b[1;33m]\u001b[0m \u001b[1;33m=\u001b[0m \u001b[0mkwds\u001b[0m\u001b[1;33m[\u001b[0m\u001b[1;34m'has_index_names'\u001b[0m\u001b[1;33m]\u001b[0m\u001b[1;33m\u001b[0m\u001b[0m\n\u001b[0;32m    817\u001b[0m \u001b[1;33m\u001b[0m\u001b[0m\n\u001b[1;32m--> 818\u001b[1;33m         \u001b[0mself\u001b[0m\u001b[1;33m.\u001b[0m\u001b[0m_make_engine\u001b[0m\u001b[1;33m(\u001b[0m\u001b[0mself\u001b[0m\u001b[1;33m.\u001b[0m\u001b[0mengine\u001b[0m\u001b[1;33m)\u001b[0m\u001b[1;33m\u001b[0m\u001b[0m\n\u001b[0m\u001b[0;32m    819\u001b[0m \u001b[1;33m\u001b[0m\u001b[0m\n\u001b[0;32m    820\u001b[0m     \u001b[1;32mdef\u001b[0m \u001b[0mclose\u001b[0m\u001b[1;33m(\u001b[0m\u001b[0mself\u001b[0m\u001b[1;33m)\u001b[0m\u001b[1;33m:\u001b[0m\u001b[1;33m\u001b[0m\u001b[0m\n",
      "\u001b[1;32mC:\\Users\\Simran Goyal\\Anaconda2\\lib\\site-packages\\pandas\\io\\parsers.pyc\u001b[0m in \u001b[0;36m_make_engine\u001b[1;34m(self, engine)\u001b[0m\n\u001b[0;32m   1047\u001b[0m     \u001b[1;32mdef\u001b[0m \u001b[0m_make_engine\u001b[0m\u001b[1;33m(\u001b[0m\u001b[0mself\u001b[0m\u001b[1;33m,\u001b[0m \u001b[0mengine\u001b[0m\u001b[1;33m=\u001b[0m\u001b[1;34m'c'\u001b[0m\u001b[1;33m)\u001b[0m\u001b[1;33m:\u001b[0m\u001b[1;33m\u001b[0m\u001b[0m\n\u001b[0;32m   1048\u001b[0m         \u001b[1;32mif\u001b[0m \u001b[0mengine\u001b[0m \u001b[1;33m==\u001b[0m \u001b[1;34m'c'\u001b[0m\u001b[1;33m:\u001b[0m\u001b[1;33m\u001b[0m\u001b[0m\n\u001b[1;32m-> 1049\u001b[1;33m             \u001b[0mself\u001b[0m\u001b[1;33m.\u001b[0m\u001b[0m_engine\u001b[0m \u001b[1;33m=\u001b[0m \u001b[0mCParserWrapper\u001b[0m\u001b[1;33m(\u001b[0m\u001b[0mself\u001b[0m\u001b[1;33m.\u001b[0m\u001b[0mf\u001b[0m\u001b[1;33m,\u001b[0m \u001b[1;33m**\u001b[0m\u001b[0mself\u001b[0m\u001b[1;33m.\u001b[0m\u001b[0moptions\u001b[0m\u001b[1;33m)\u001b[0m\u001b[1;33m\u001b[0m\u001b[0m\n\u001b[0m\u001b[0;32m   1050\u001b[0m         \u001b[1;32melse\u001b[0m\u001b[1;33m:\u001b[0m\u001b[1;33m\u001b[0m\u001b[0m\n\u001b[0;32m   1051\u001b[0m             \u001b[1;32mif\u001b[0m \u001b[0mengine\u001b[0m \u001b[1;33m==\u001b[0m \u001b[1;34m'python'\u001b[0m\u001b[1;33m:\u001b[0m\u001b[1;33m\u001b[0m\u001b[0m\n",
      "\u001b[1;32mC:\\Users\\Simran Goyal\\Anaconda2\\lib\\site-packages\\pandas\\io\\parsers.pyc\u001b[0m in \u001b[0;36m__init__\u001b[1;34m(self, src, **kwds)\u001b[0m\n\u001b[0;32m   1693\u001b[0m         \u001b[0mkwds\u001b[0m\u001b[1;33m[\u001b[0m\u001b[1;34m'allow_leading_cols'\u001b[0m\u001b[1;33m]\u001b[0m \u001b[1;33m=\u001b[0m \u001b[0mself\u001b[0m\u001b[1;33m.\u001b[0m\u001b[0mindex_col\u001b[0m \u001b[1;32mis\u001b[0m \u001b[1;32mnot\u001b[0m \u001b[0mFalse\u001b[0m\u001b[1;33m\u001b[0m\u001b[0m\n\u001b[0;32m   1694\u001b[0m \u001b[1;33m\u001b[0m\u001b[0m\n\u001b[1;32m-> 1695\u001b[1;33m         \u001b[0mself\u001b[0m\u001b[1;33m.\u001b[0m\u001b[0m_reader\u001b[0m \u001b[1;33m=\u001b[0m \u001b[0mparsers\u001b[0m\u001b[1;33m.\u001b[0m\u001b[0mTextReader\u001b[0m\u001b[1;33m(\u001b[0m\u001b[0msrc\u001b[0m\u001b[1;33m,\u001b[0m \u001b[1;33m**\u001b[0m\u001b[0mkwds\u001b[0m\u001b[1;33m)\u001b[0m\u001b[1;33m\u001b[0m\u001b[0m\n\u001b[0m\u001b[0;32m   1696\u001b[0m \u001b[1;33m\u001b[0m\u001b[0m\n\u001b[0;32m   1697\u001b[0m         \u001b[1;31m# XXX\u001b[0m\u001b[1;33m\u001b[0m\u001b[1;33m\u001b[0m\u001b[0m\n",
      "\u001b[1;32mpandas/_libs/parsers.pyx\u001b[0m in \u001b[0;36mpandas._libs.parsers.TextReader.__cinit__\u001b[1;34m()\u001b[0m\n",
      "\u001b[1;32mpandas/_libs/parsers.pyx\u001b[0m in \u001b[0;36mpandas._libs.parsers.TextReader._setup_parser_source\u001b[1;34m()\u001b[0m\n",
      "\u001b[1;31mIOError\u001b[0m: File C:\\Users\\Simran Goyal\\Desktop\\data.csv does not exist"
     ]
    }
   ],
   "source": [
    "df = pd.read_csv('C:\\Users\\Simran Goyal\\Desktop\\data.csv')\n",
    "pd.options.display.max_columns = None\n",
    "df.head()"
   ]
  },
  {
   "cell_type": "markdown",
   "metadata": {},
   "source": [
    "We will now observe the shape of the data set using the shape property, which tells us about the rows and columns in the data set."
   ]
  },
  {
   "cell_type": "code",
   "execution_count": null,
   "metadata": {},
   "outputs": [],
   "source": [
    "df.shape"
   ]
  },
  {
   "cell_type": "markdown",
   "metadata": {},
   "source": [
    "We will now observe the size of the data set using the size property, which tells us about the total number of records in the data set."
   ]
  },
  {
   "cell_type": "code",
   "execution_count": null,
   "metadata": {},
   "outputs": [],
   "source": [
    "df.size"
   ]
  },
  {
   "cell_type": "markdown",
   "metadata": {},
   "source": [
    "We will now describe the data set using the describe function which tells us about the statistical data related to the data set."
   ]
  },
  {
   "cell_type": "code",
   "execution_count": null,
   "metadata": {
    "scrolled": true
   },
   "outputs": [],
   "source": [
    "df.describe()"
   ]
  },
  {
   "cell_type": "markdown",
   "metadata": {},
   "source": [
    "We will now check if our data set contains any null values or not."
   ]
  },
  {
   "cell_type": "code",
   "execution_count": null,
   "metadata": {},
   "outputs": [],
   "source": [
    "df.isnull().sum()"
   ]
  },
  {
   "cell_type": "markdown",
   "metadata": {},
   "source": [
    "This shows that there is no null value present in the data set."
   ]
  },
  {
   "cell_type": "markdown",
   "metadata": {},
   "source": [
    "# Univariate Analysis\n",
    "\n",
    "'Uni' stands for One. This means that the analysis is done considering one variable. This is the simplest method of analysis.\n",
    "Univariate analysis is used to describe the data and observe the pattern. Hence, it is also helpful during the bivariate or multivariate analysis."
   ]
  },
  {
   "cell_type": "markdown",
   "metadata": {},
   "source": [
    "## Price- Histogram\n",
    "\n",
    "Here is the histogram for the market price of the houses:"
   ]
  },
  {
   "cell_type": "code",
   "execution_count": null,
   "metadata": {},
   "outputs": [],
   "source": [
    "plt.hist(x = 'price', data = df, bins = 30)\n",
    "sns.despine()"
   ]
  },
  {
   "cell_type": "markdown",
   "metadata": {},
   "source": [
    "From the above histogram, we can observe:\n",
    "1. There is skewness in the above distribution.\n",
    "2. The above data is continuous in nature.\n",
    "3. The market value of most of the houses is less than 1000000.\n",
    "4. There are some outliers present in the above graph."
   ]
  },
  {
   "cell_type": "markdown",
   "metadata": {},
   "source": [
    "## Bedroom- Count plot\n",
    "\n",
    "Here is the count plot for the number of bedrooms in the house:"
   ]
  },
  {
   "cell_type": "code",
   "execution_count": null,
   "metadata": {},
   "outputs": [],
   "source": [
    "sns.countplot(x = 'bedrooms', data = df)\n",
    "sns.despine()"
   ]
  },
  {
   "cell_type": "markdown",
   "metadata": {},
   "source": [
    "From the above count plot, we can infer:\n",
    "1. The houses with 3 and 4 bedrooms are high in number.\n",
    "2. There are even houses with 0 bedrooms and some people prefer them because of low prices.\n",
    "3. Houses with 4 and less bedrooms are high in number, as compared to the houses with more number of bedrooms as the price varies and maintaining such big houses is difficult."
   ]
  },
  {
   "cell_type": "markdown",
   "metadata": {},
   "source": [
    "## Bathroom- Count plot\n",
    "\n",
    "Here is the count plot for the number of bathrooms in the house:"
   ]
  },
  {
   "cell_type": "code",
   "execution_count": null,
   "metadata": {},
   "outputs": [],
   "source": [
    "sns.countplot(x = 'bathrooms', data = df)\n",
    "sns.set(rc={'figure.figsize':(11.7,8.27)})"
   ]
  },
  {
   "cell_type": "markdown",
   "metadata": {},
   "source": [
    "From the above count plot, we can infer:\n",
    "\n",
    "1. The houses having 1-3 bathrooms are high in number.\n",
    "2. There are very less number of houses which have number of bathrooms more than 4."
   ]
  },
  {
   "cell_type": "markdown",
   "metadata": {},
   "source": [
    "## Living area(in sqft)- Histogram\n",
    "\n",
    "Here is the histogram for the living area (in sqft) in the house:"
   ]
  },
  {
   "cell_type": "code",
   "execution_count": null,
   "metadata": {},
   "outputs": [],
   "source": [
    "plt.hist(x = 'sqft_living', data = df, bins = 'auto')\n",
    "sns.despine()"
   ]
  },
  {
   "cell_type": "markdown",
   "metadata": {},
   "source": [
    "From the above histogram, we can infer:\n",
    "\n",
    "1. The above distribution is skewed.\n",
    "2. There are a number of outliers present.\n",
    "3. The distribution is continuous in nature.\n",
    "4. Living area of most of the houses is less that 4000 sqft."
   ]
  },
  {
   "cell_type": "markdown",
   "metadata": {},
   "source": [
    "## Lot area(in sqft)- Histogram\n",
    "Here is the histogram for the lot area (in sqft) in the house:"
   ]
  },
  {
   "cell_type": "code",
   "execution_count": null,
   "metadata": {},
   "outputs": [],
   "source": [
    "plt.hist(x = 'sqft_lot',data=df,bins=20)\n",
    "sns.despine()"
   ]
  },
  {
   "cell_type": "markdown",
   "metadata": {},
   "source": [
    "From the above histogram, we can infer:\n",
    "\n",
    "1. The plot is skewed in nature.\n",
    "2. Most of the houses have a lot area much less than 250000 sqft.\n",
    "3. There are outliers in the distribution."
   ]
  },
  {
   "cell_type": "markdown",
   "metadata": {},
   "source": [
    "## Floors- Count plot\n",
    "\n",
    "Here is the count plot for number of floors in the house:"
   ]
  },
  {
   "cell_type": "code",
   "execution_count": null,
   "metadata": {},
   "outputs": [],
   "source": [
    "sns.countplot(x = 'floors', data = df)\n",
    "sns.despine()"
   ]
  },
  {
   "cell_type": "markdown",
   "metadata": {},
   "source": [
    "From the above count plot, we can infer:\n",
    "\n",
    "1. The above distribution is continuous in nature.\n",
    "2. Most houses have 1-2 floorings in their house."
   ]
  },
  {
   "cell_type": "markdown",
   "metadata": {},
   "source": [
    "## Waterfront- Count plot\n",
    "\n",
    "Here is the count plot for waterfront in the house:"
   ]
  },
  {
   "cell_type": "code",
   "execution_count": null,
   "metadata": {},
   "outputs": [],
   "source": [
    "sns.countplot(x = 'waterfront', data = df)\n",
    "sns.despine()"
   ]
  },
  {
   "cell_type": "markdown",
   "metadata": {},
   "source": [
    "From the above countplot, we infer:\n",
    "\n",
    "1. There are only two cases in the above distribution- either the houses have a waterfront or they don't have it.\n",
    "2. Most of the houses don't have a waterfront.\n",
    "3. There are few houses that have a waterfront in it."
   ]
  },
  {
   "cell_type": "markdown",
   "metadata": {},
   "source": [
    "## View- Count Plot\n",
    "\n",
    "Here is the count plot for the number of views around the house:"
   ]
  },
  {
   "cell_type": "code",
   "execution_count": null,
   "metadata": {},
   "outputs": [],
   "source": [
    "sns.countplot(x = 'view', data = df)\n",
    "sns.despine()"
   ]
  },
  {
   "cell_type": "markdown",
   "metadata": {},
   "source": [
    "From the above count plot, we infer:\n",
    "\n",
    "1. The above distribution shows that the number of houses having 0 views around it is high in number.\n",
    "2. The houses having 2 views around it are high in number than 1, 3 or 4 views."
   ]
  },
  {
   "cell_type": "markdown",
   "metadata": {},
   "source": [
    "## Condition- Count Plot\n",
    "\n",
    "Here is the count plot stating the condition of the house:"
   ]
  },
  {
   "cell_type": "code",
   "execution_count": null,
   "metadata": {},
   "outputs": [],
   "source": [
    "sns.countplot(df['condition'])\n",
    "sns.despine()"
   ]
  },
  {
   "cell_type": "markdown",
   "metadata": {},
   "source": [
    "From the above count plot, we infer:\n",
    "\n",
    "1. The above data is ordinal in nature.\n",
    "2. The condition of most of the houses is mediocre.\n",
    "3. The houses with a bad condition are very less in number as compared to the houses which are good in condition."
   ]
  },
  {
   "cell_type": "markdown",
   "metadata": {},
   "source": [
    "## Year built- Distribution Plot\n",
    "\n",
    "Here is the distribution plot for the built year:"
   ]
  },
  {
   "cell_type": "code",
   "execution_count": null,
   "metadata": {},
   "outputs": [],
   "source": [
    "sns.distplot(df['yr_built'])\n",
    "sns.despine()"
   ]
  },
  {
   "cell_type": "markdown",
   "metadata": {},
   "source": [
    "From the above distribution plot, we infer:\n",
    "\n",
    "1. Most of the houses are built between 1960 to the present year.\n",
    "2. The distribution is continuous.\n",
    "3. There are no houses built before 1900, stating that no one is interested in buying such old houses."
   ]
  },
  {
   "cell_type": "markdown",
   "metadata": {},
   "source": [
    "## Zipcode- Histogram\n",
    "\n",
    "Here is the histogram for the area zipcode:"
   ]
  },
  {
   "cell_type": "code",
   "execution_count": null,
   "metadata": {},
   "outputs": [],
   "source": [
    "plt.hist(x = 'zipcode', data =df)\n",
    "sns.despine()"
   ]
  },
  {
   "cell_type": "markdown",
   "metadata": {},
   "source": [
    "From the above histogram, we infer:\n",
    "\n",
    "1. The above data is continuous in nature.\n",
    "2. Most of the houses are from some areas of Hobart and Seattle in Washington.\n",
    "3. These houses are scattered across the district and we'll see if location affects the price of the houses or not."
   ]
  },
  {
   "cell_type": "markdown",
   "metadata": {},
   "source": [
    "## Latitude- Distribution Plot\n",
    "\n",
    "Here is the distribution plot for the latitude:"
   ]
  },
  {
   "cell_type": "code",
   "execution_count": null,
   "metadata": {},
   "outputs": [],
   "source": [
    "sns.distplot(df['lat'])\n",
    "sns.despine()"
   ]
  },
  {
   "cell_type": "markdown",
   "metadata": {},
   "source": [
    "From the above distribution plot, we infer:\n",
    "\n",
    "1. The above distribution is skewed.\n",
    "2. The data is continuous.\n",
    "3. There are outliers present.\n",
    "4. Most houses are present at a latitudinal scale of 47.5-47.7."
   ]
  },
  {
   "cell_type": "markdown",
   "metadata": {},
   "source": [
    "## Longitude- Distribution Plot\n",
    "\n",
    "Here is the distribution plot for longitude:"
   ]
  },
  {
   "cell_type": "code",
   "execution_count": null,
   "metadata": {},
   "outputs": [],
   "source": [
    "sns.distplot(df['long'])\n",
    "sns.despine()"
   ]
  },
  {
   "cell_type": "markdown",
   "metadata": {},
   "source": [
    "From the above distribution plot, we infer:\n",
    "\n",
    "1. The above distribution is skewed.\n",
    "2. The data is continuous.\n",
    "3. There are outliers present.\n",
    "4. Most houses are present at a longitudinal scale of-122.4 to -122.0."
   ]
  },
  {
   "cell_type": "markdown",
   "metadata": {},
   "source": [
    "# Bivariate Analysis\n",
    "\n",
    "'Bi' stands for Twp. This means that the analysis is done considering two variables. It is the simultaneous analysis of two variables. It tells us about the dependencies, association and relation between these two specific variables. After analysing their relation, we can infer the level of their dependencies on each other."
   ]
  },
  {
   "cell_type": "markdown",
   "metadata": {},
   "source": [
    "We will now analyses the co-relation between all the considered parameters"
   ]
  },
  {
   "cell_type": "code",
   "execution_count": null,
   "metadata": {},
   "outputs": [],
   "source": [
    "df.corr()"
   ]
  },
  {
   "cell_type": "markdown",
   "metadata": {},
   "source": [
    "We use heatmap to plot the relation between the various parameters.\n",
    "The positive values show direct relation whereas the negative values represent opposite or indirect relation."
   ]
  },
  {
   "cell_type": "code",
   "execution_count": null,
   "metadata": {},
   "outputs": [],
   "source": [
    "plt.figure(figsize =(18,12))\n",
    "sns.heatmap(df.corr(),annot=True)\n",
    "plt.show()"
   ]
  },
  {
   "cell_type": "markdown",
   "metadata": {},
   "source": [
    "## Price vs Living Area(sqft)- Reg Plot\n",
    "\n",
    "Here is the regression plot for price vs living area(sqft):"
   ]
  },
  {
   "cell_type": "code",
   "execution_count": null,
   "metadata": {},
   "outputs": [],
   "source": [
    "sns.regplot(x = 'price',y = 'sqft_living',data = df , x_jitter=0.2, scatter_kws={'alpha':0.2})\n",
    "sns.despine()"
   ]
  },
  {
   "cell_type": "markdown",
   "metadata": {},
   "source": [
    "From the above regression plot, we infer:\n",
    "\n",
    "1. The houses having living area less than 4000 sqft have prices less than 1000000.\n",
    "2. The above distibution shows that as the living area increases the price of the house is also increasing.\n",
    "3. This shows that there exists a direct relation of living area with the price of the house."
   ]
  },
  {
   "cell_type": "markdown",
   "metadata": {},
   "source": [
    "## Bedrooms vs Price- Reg Plot\n",
    "\n",
    "Here is the regression plot for number of bedrooms vs price:"
   ]
  },
  {
   "cell_type": "code",
   "execution_count": null,
   "metadata": {},
   "outputs": [],
   "source": [
    "sns.regplot(x = 'bedrooms',y='price',data = df , x_jitter=0.3, scatter_kws={'alpha':0.3}, color = 'orange')\n",
    "sns.despine()"
   ]
  },
  {
   "cell_type": "markdown",
   "metadata": {},
   "source": [
    "From the above regression plot, we infer:\n",
    "\n",
    "1. Most houses have 2-5 bedrooms in their house.\n",
    "2. The prices of most of the houses is less than 1000000 with respect to the number of houses.\n",
    "3. The price of the house and the number of bedrooms are dependent on each other."
   ]
  },
  {
   "cell_type": "markdown",
   "metadata": {},
   "source": [
    "## Price vs Latitude- Reg Plot\n",
    "\n",
    "Here is the regression plot for price vs latitude:"
   ]
  },
  {
   "cell_type": "code",
   "execution_count": null,
   "metadata": {},
   "outputs": [],
   "source": [
    "sns.regplot(x = 'lat',y = 'price',data = df , x_jitter=0.2, scatter_kws={'alpha':0.2},color='black')\n",
    "sns.despine()"
   ]
  },
  {
   "cell_type": "markdown",
   "metadata": {},
   "source": [
    "From the above regression plot, we infer:\n",
    "\n",
    "1. There exists a direct relation between the price and the latitudinal location of the house.\n",
    "2. The houses located between 47.4and 47.8 latitude are high in number in the data set.\n",
    "3. The houses located at 47.0-47.2 latitude are cheaper than the houses present between 47.4-47.8 latitude."
   ]
  },
  {
   "cell_type": "markdown",
   "metadata": {},
   "source": [
    "## Price vs Longitude- Reg Plot\n",
    "\n",
    "Here is the regression plt for price vs longitude:"
   ]
  },
  {
   "cell_type": "code",
   "execution_count": null,
   "metadata": {},
   "outputs": [],
   "source": [
    "sns.regplot(x = 'long',y = 'price',data = df , x_jitter=0.2, scatter_kws={'alpha':0.2},color='green')\n",
    "sns.despine()"
   ]
  },
  {
   "cell_type": "markdown",
   "metadata": {},
   "source": [
    "From the above regression plot, we infer:\n",
    "\n",
    "1. There exists a direct relation between the price and the longitudinal location of the house.\n",
    "2. The houses located between -122.4 to -122.0 longitude are high in number in the data set.\n",
    "3. The houses located between -122.6 to -122.4 longtiude are cheaper than the houses present between -122.4 to -122.0 longitude."
   ]
  },
  {
   "cell_type": "markdown",
   "metadata": {},
   "source": [
    "## Condition vs Built Year- Reg Plot\n",
    "\n",
    "Here is the regression plot for condition vs built year:"
   ]
  },
  {
   "cell_type": "code",
   "execution_count": null,
   "metadata": {},
   "outputs": [],
   "source": [
    "sns.regplot(x = 'condition',y = 'yr_built',data = df , x_jitter=0.2, scatter_kws={'alpha':0.2},color='red')\n",
    "sns.despine()"
   ]
  },
  {
   "cell_type": "markdown",
   "metadata": {},
   "source": [
    "From the above regression plot, we infer:\n",
    "\n",
    "1. It shows the indirect relation between the condition of the house to the year it was built in.\n",
    "2. Most of the houses built after 2000 are in good condition.\n",
    "3. The plot shows that the houses with bad condition are mostly built before 1980."
   ]
  },
  {
   "cell_type": "markdown",
   "metadata": {},
   "source": [
    "## Price vs View- Box Plot\n",
    "\n",
    "Here is the boxplot for price vs view:"
   ]
  },
  {
   "cell_type": "code",
   "execution_count": null,
   "metadata": {},
   "outputs": [],
   "source": [
    "sns.boxplot(x = 'view',y = 'price',data = df )\n",
    "sns.despine()"
   ]
  },
  {
   "cell_type": "markdown",
   "metadata": {},
   "source": [
    "From the above boxplot, we infer:\n",
    "\n",
    "1. There exists a direct relation between the price and the view around the house.\n",
    "2. The houses with 0 views around it are having mostly a price of 1000000.\n",
    "3. The houses having more views around have more price compared to the houses with less price."
   ]
  },
  {
   "cell_type": "markdown",
   "metadata": {},
   "source": [
    "## Price vs Waterfront- Box Plot\n",
    "\n",
    "Here is the boxplot for price vs waterfront:"
   ]
  },
  {
   "cell_type": "code",
   "execution_count": null,
   "metadata": {},
   "outputs": [],
   "source": [
    "sns.boxplot(x = 'waterfront',y = 'price',data = df)\n",
    "sns.despine()"
   ]
  },
  {
   "cell_type": "markdown",
   "metadata": {},
   "source": [
    "From the above boxplot, we infer:\n",
    "\n",
    "1. There exists a direct relation between the price and the waterfront in the house.\n",
    "2. Most of the houses don't have a waterfront in it.\n",
    "3. The houses with waterfront in it have high prices rather than the houses with no waterfront in it."
   ]
  },
  {
   "cell_type": "markdown",
   "metadata": {},
   "source": [
    "# Multivariate Analysis\n",
    "\n",
    "'Multi' stands for Many. This means that the analysis is done considering more than two variables. It is the simultaneous analysis of many variables. It tells us about the dependencies, association and relation between the variables. After analysing their relation, we can infer the level of their dependencies on each other.\n",
    "\n",
    "Our main aim of this analysis is to predict the price of the houses for sale. Hence, we will analyses evey aspect in terms of price here."
   ]
  },
  {
   "cell_type": "markdown",
   "metadata": {},
   "source": [
    "## Bedrooms vs Price in terms of Condition- Facet grid\n",
    "\n",
    "Here is the facet grid for price vs bedrooms in terms of the condition:"
   ]
  },
  {
   "cell_type": "code",
   "execution_count": null,
   "metadata": {},
   "outputs": [],
   "source": [
    "grid = sns.FacetGrid(df, col='condition',col_wrap=2)\n",
    "grid.map(plt.scatter,'bedrooms','price',alpha = 0.2)\n",
    "sns.despine()"
   ]
  },
  {
   "cell_type": "markdown",
   "metadata": {},
   "source": [
    "From the above graphs, we infer:\n",
    "\n",
    "1. More the number of bedrooms, more the price of the house where the condition is good.\n",
    "2. For the houses having bad condition, even the houses with more number of bedrooms possess low price of the house."
   ]
  },
  {
   "cell_type": "markdown",
   "metadata": {},
   "source": [
    "## Price vs Living Area in terms of Condition- Facet Grid\n",
    "\n",
    "Here is the facet grid for price vs living area in terms of condition:"
   ]
  },
  {
   "cell_type": "code",
   "execution_count": null,
   "metadata": {},
   "outputs": [],
   "source": [
    "grid = sns.FacetGrid(df, col='condition',col_wrap=2)\n",
    "grid.map(plt.scatter,'sqft_living','price',alpha = 0.2)\n",
    "sns.despine()"
   ]
  },
  {
   "cell_type": "markdown",
   "metadata": {},
   "source": [
    "From the above graphs, we infer:\n",
    "\n",
    "1. The houses having bad condition are having less prices, irrespective of the living area of the houses.\n",
    "2. The price of the houses increase with the living area of the houses, in the case of houses having good condition."
   ]
  },
  {
   "cell_type": "markdown",
   "metadata": {},
   "source": [
    "## Price vs View in terms of Condition- Facet Grid\n",
    "\n",
    "Here is the facet grid for price vs view in terms of condition:"
   ]
  },
  {
   "cell_type": "code",
   "execution_count": null,
   "metadata": {},
   "outputs": [],
   "source": [
    "grid = sns.FacetGrid(df, col='condition',col_wrap=2)\n",
    "grid.map(plt.scatter,'view','price',alpha = 0.2)\n",
    "sns.despine()"
   ]
  },
  {
   "cell_type": "markdown",
   "metadata": {},
   "source": [
    "From the above graphs, we infer:\n",
    "\n",
    "1. The houses with bad condition are mostly having less views and hence, the prices are also less.\n",
    "2. The houses having good condition, have high prices and even have more views around.\n",
    "3. More the number of views around, more the price of the house."
   ]
  },
  {
   "cell_type": "markdown",
   "metadata": {},
   "source": [
    "# Final Plot Section\n",
    "\n",
    "This is the final section where three plots are added that are useful in predicting the price of the houses."
   ]
  },
  {
   "cell_type": "markdown",
   "metadata": {},
   "source": [
    "## Plot-1\n",
    "## Price vs View- Box Plot\n",
    "\n",
    "We have included this graph as views around the house plays a major role in depicting the prices of the house.\n",
    "Here is the box plot for price vs view:"
   ]
  },
  {
   "cell_type": "code",
   "execution_count": null,
   "metadata": {},
   "outputs": [],
   "source": [
    "sns.boxplot(x = 'view',y = 'price',data = df )\n",
    "sns.despine()"
   ]
  },
  {
   "cell_type": "markdown",
   "metadata": {},
   "source": [
    "From the above box plot, we infer:\n",
    "\n",
    "1. There exists a direct relation between the price and the view around the house.\n",
    "2. The houses with 0 views around it are having mostly a price of 1000000.\n",
    "3. The houses having more views around have more price compared to the houses with less price."
   ]
  },
  {
   "cell_type": "markdown",
   "metadata": {},
   "source": [
    "## Plot-2\n",
    "## Built Year- Distribution Plot\n",
    "\n",
    "We have included this plot as the built year helps us to price the houses well.\n",
    "Here is the distribution plot for the built year:"
   ]
  },
  {
   "cell_type": "code",
   "execution_count": null,
   "metadata": {
    "scrolled": true
   },
   "outputs": [],
   "source": [
    "sns.distplot(df['yr_built'])\n",
    "sns.despine()"
   ]
  },
  {
   "cell_type": "markdown",
   "metadata": {},
   "source": [
    "From the above distribution plot, we infer:\n",
    "\n",
    "1. Most of the houses are built between 1960 to the present year.\n",
    "2. The distribution is continuous.\n",
    "3. There are no houses built before 1900, stating that no one is interested in buying such old houses."
   ]
  },
  {
   "cell_type": "markdown",
   "metadata": {},
   "source": [
    "## Plot-3\n",
    "## Living Area vs Price in terms of Condition- Facet Grid\n",
    "\n",
    "We have included this plot as living area and the condition defines the price of the house well.\n",
    "Here is the facet grid for price vs living area in terms of condition:"
   ]
  },
  {
   "cell_type": "code",
   "execution_count": null,
   "metadata": {},
   "outputs": [],
   "source": [
    "grid = sns.FacetGrid(df, col='condition',col_wrap=2)\n",
    "grid.map(plt.scatter,'sqft_living','price',alpha = 0.2)\n",
    "sns.despine()"
   ]
  },
  {
   "cell_type": "markdown",
   "metadata": {},
   "source": [
    "From the above graphs, we infer:\n",
    "\n",
    "1. The houses having bad condition are having less prices, irrespective of the living area of the houses.\n",
    "2. The price of the houses increase with the living area of the houses, in the case of houses having good condition."
   ]
  },
  {
   "cell_type": "markdown",
   "metadata": {},
   "source": [
    "# Summary"
   ]
  },
  {
   "cell_type": "markdown",
   "metadata": {},
   "source": [
    "From the above plots, we conclude that there are various parameters involved in determining the price of the houses.\n",
    "Like:\n",
    "1. Better the condition, more the price.\n",
    "2. More the views arond, more the price.\n",
    "3. More the number of bedrooms, more the price.\n",
    "4. More the number of bathrooms, more the price.\n",
    "5. More the living area, more the price.\n",
    "6. Later the built year, more the price.\n",
    "7. If waterfront, more the price.\n",
    "8. If more lot area, more the price.\n",
    "\n",
    "There are many such observations that one can see and infer from the above plots.\n",
    "\n",
    "The problems faced here are that the parameters like floor is in decimals which is somewhat not possible and the house id which is of no use in predicting the price of the house.\n",
    "\n",
    "So, we conclude that the price of a house can be predicted by the above defined parameters and plots."
   ]
  }
 ],
 "metadata": {
  "kernelspec": {
   "display_name": "Python 2",
   "language": "python",
   "name": "python2"
  },
  "language_info": {
   "codemirror_mode": {
    "name": "ipython",
    "version": 2
   },
   "file_extension": ".py",
   "mimetype": "text/x-python",
   "name": "python",
   "nbconvert_exporter": "python",
   "pygments_lexer": "ipython2",
   "version": "2.7.14"
  }
 },
 "nbformat": 4,
 "nbformat_minor": 2
}
